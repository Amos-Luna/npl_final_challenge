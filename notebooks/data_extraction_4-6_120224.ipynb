{
 "cells": [
  {
   "cell_type": "code",
   "execution_count": 11,
   "metadata": {},
   "outputs": [
    {
     "name": "stdout",
     "output_type": "stream",
     "text": [
      "TAVILY_API_KEY en Python: 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\n"
     ]
    }
   ],
   "source": [
    "import os\n",
    "from dotenv import load_dotenv\n",
    "\n",
    "# variables de entorno desde el archivo .env\n",
    "load_dotenv()\n",
    "\n",
    "# Verificar la variable de entorno TAVILY_API_KEY\n",
    "api_key = os.getenv(\"TAVILY_API_KEY\")\n",
    "print(f\"TAVILY_API_KEY en Python: {api_key}\")\n",
    "\n",
    "if not api_key:\n",
    "    raise ValueError(\"ERROR: No se encontró la API Key\")"
   ]
  },
  {
   "cell_type": "code",
   "execution_count": 12,
   "metadata": {},
   "outputs": [],
   "source": [
    "import sys\n",
    "import os\n",
    "\n",
    "sys.path.append(os.path.abspath(os.path.join(os.getcwd(), '..')))\n",
    "\n",
    "from resources.tavily_scraper import TavilyScraper\n",
    "from resources.web_content_extractor import WebContentExtractor\n",
    "from resources.utils import save_data"
   ]
  },
  {
   "cell_type": "markdown",
   "metadata": {},
   "source": [
    "Jahn ( 4 - 6):\n",
    "\n",
    "- 1. ¿Cuál es la aprobación actual de la presidenta del Perú y cómo ha evolucionado en los últimos meses?\n",
    "\n",
    "- 2. ¿Cómo la comparan con los presidentes anteriores en términos de gestión y estabilidad política?\n",
    "\n",
    "- 3. Perspectivas futuras y posibles escenarios políticos hasta 2026.\n"
   ]
  },
  {
   "cell_type": "code",
   "execution_count": 13,
   "metadata": {},
   "outputs": [],
   "source": [
    "topics_to_search = {\n",
    "    \"topic_4\": [\n",
    "        \"¿Cuáles son las iniciativas en educación y cultura promovidas por Dina Boluarte en Perú?\",\n",
    "        \"¿Qué proyectos educativos ha impulsado Dina Boluarte durante su gobierno?\",\n",
    "        \"¿Cómo ha abordado el gobierno de Dina Boluarte la preservación de las lenguas originarias y la cultura?\",\n",
    "        \"¿Qué programas de educación bilingüe se han implementado en el Perú bajo la gestión de Dina Boluarte?\",\n",
    "        \"¿Qué reformas culturales y educativas se han llevado a cabo durante la presidencia de Dina Boluarte?\"\n",
    "    ],\n",
    "    \"topic_5\": [\n",
    "        \"¿Cuál ha sido el impacto de las políticas económicas de Dina Boluarte en el Perú?\",\n",
    "        \"¿Cómo se comparan las políticas económicas de Dina Boluarte con las de gobiernos anteriores?\",\n",
    "        \"¿Qué medidas económicas ha tomado Dina Boluarte y cómo han afectado a la población?\",\n",
    "        \"¿Cómo ha evolucionado el crecimiento económico del Perú durante el gobierno de Dina Boluarte?\",\n",
    "        \"¿Qué relación hay entre la inflación y las políticas económicas implementadas por Dina Boluarte?\"\n",
    "    ],\n",
    "    \"topic_6\": [\n",
    "        \"¿Cuáles son los principales desafíos en seguridad ciudadana que ha enfrentado Dina Boluarte?\",\n",
    "        \"¿Qué estrategias de seguridad ha implementado el gobierno de Dina Boluarte?\",\n",
    "        \"¿Cómo han impactado las políticas de seguridad de Dina Boluarte en la tasa de criminalidad?\",\n",
    "        \"¿En qué consiste el plan de seguridad ciudadana en el Perú bajo el gobierno de Dina Boluarte?\",\n",
    "        \"¿Cuáles han sido los resultados de las medidas de seguridad implementadas en la gestión de Dina Boluarte?\"\n",
    "    ]\n",
    "}\n",
    "\n"
   ]
  },
  {
   "cell_type": "code",
   "execution_count": 14,
   "metadata": {},
   "outputs": [
    {
     "name": "stdout",
     "output_type": "stream",
     "text": [
      "\n",
      "🔍 Procesando tema: topic_4\n",
      "🔎 Buscando en Tavily: ¿Cuáles son las iniciativas en educación y cultura promovidas por Dina Boluarte en Perú?\n",
      "🔎 Buscando en Tavily: ¿Qué proyectos educativos ha impulsado Dina Boluarte durante su gobierno?\n",
      "🔎 Buscando en Tavily: ¿Cómo ha abordado el gobierno de Dina Boluarte la preservación de las lenguas originarias y la cultura?\n",
      "🔎 Buscando en Tavily: ¿Qué programas de educación bilingüe se han implementado en el Perú bajo la gestión de Dina Boluarte?\n",
      "🔎 Buscando en Tavily: ¿Qué reformas culturales y educativas se han llevado a cabo durante la presidencia de Dina Boluarte?\n",
      "✅ Total de resultados obtenidos: 34\n",
      "-----> Data successfully saved in: ../data/data_extracted_topic_4_13022025.json\n",
      "Tema topic_4 completado.\n",
      "\n",
      "\n",
      "🔍 Procesando tema: topic_5\n",
      "🔎 Buscando en Tavily: ¿Cuál ha sido el impacto de las políticas económicas de Dina Boluarte en el Perú?\n",
      "🔎 Buscando en Tavily: ¿Cómo se comparan las políticas económicas de Dina Boluarte con las de gobiernos anteriores?\n",
      "🔎 Buscando en Tavily: ¿Qué medidas económicas ha tomado Dina Boluarte y cómo han afectado a la población?\n",
      "🔎 Buscando en Tavily: ¿Cómo ha evolucionado el crecimiento económico del Perú durante el gobierno de Dina Boluarte?\n",
      "🔎 Buscando en Tavily: ¿Qué relación hay entre la inflación y las políticas económicas implementadas por Dina Boluarte?\n",
      "✅ Total de resultados obtenidos: 36\n",
      "-----> Data successfully saved in: ../data/data_extracted_topic_5_13022025.json\n",
      "Tema topic_5 completado.\n",
      "\n",
      "\n",
      "🔍 Procesando tema: topic_6\n",
      "🔎 Buscando en Tavily: ¿Cuáles son los principales desafíos en seguridad ciudadana que ha enfrentado Dina Boluarte?\n",
      "🔎 Buscando en Tavily: ¿Qué estrategias de seguridad ha implementado el gobierno de Dina Boluarte?\n",
      "🔎 Buscando en Tavily: ¿Cómo han impactado las políticas de seguridad de Dina Boluarte en la tasa de criminalidad?\n",
      "🔎 Buscando en Tavily: ¿En qué consiste el plan de seguridad ciudadana en el Perú bajo el gobierno de Dina Boluarte?\n",
      "🔎 Buscando en Tavily: ¿Cuáles han sido los resultados de las medidas de seguridad implementadas en la gestión de Dina Boluarte?\n",
      "✅ Total de resultados obtenidos: 38\n",
      "-----> Data successfully saved in: ../data/data_extracted_topic_6_13022025.json\n",
      "Tema topic_6 completado.\n",
      "\n"
     ]
    }
   ],
   "source": [
    "scraper = TavilyScraper(api_key=api_key, max_results=10)\n",
    "\n",
    "for topic, queries in topics_to_search.items():\n",
    "    print(f\"\\n🔍 Procesando tema: {topic}\")\n",
    "    results = scraper.search_tavily(queries)\n",
    "    save_data(results, topic)\n",
    "    print(f\"Tema {topic} completado.\\n\")"
   ]
  }
 ],
 "metadata": {
  "kernelspec": {
   "display_name": ".venv",
   "language": "python",
   "name": "python3"
  },
  "language_info": {
   "codemirror_mode": {
    "name": "ipython",
    "version": 3
   },
   "file_extension": ".py",
   "mimetype": "text/x-python",
   "name": "python",
   "nbconvert_exporter": "python",
   "pygments_lexer": "ipython3",
   "version": "3.12.7"
  }
 },
 "nbformat": 4,
 "nbformat_minor": 2
}
