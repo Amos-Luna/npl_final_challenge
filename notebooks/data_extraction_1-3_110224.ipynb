{
 "cells": [
  {
   "cell_type": "code",
   "execution_count": 1,
   "metadata": {},
   "outputs": [],
   "source": [
    "import pandas as pd\n",
    "from langchain_community.tools import TavilySearchResults\n",
    "from newspaper import Article"
   ]
  },
  {
   "cell_type": "markdown",
   "metadata": {},
   "source": [
    "Amos ( 1 - 3):\n",
    "\n",
    "- 1. ¿Cuál es la aprobación actual de la presidenta del Perú y cómo ha evolucionado en los últimos meses?\n",
    "\n",
    "- 2. ¿Cómo la comparan con los presidentes anteriores en términos de gestión y estabilidad política?\n",
    "\n",
    "- 3. Perspectivas futuras y posibles escenarios políticos hasta 2026.\n"
   ]
  },
  {
   "cell_type": "code",
   "execution_count": 2,
   "metadata": {},
   "outputs": [],
   "source": [
    "tool = TavilySearchResults(\n",
    "    max_results=1000,\n",
    "    search_depth=\"advanced\",\n",
    "    include_answer=True,\n",
    "    include_raw_content=True,\n",
    ")"
   ]
  },
  {
   "cell_type": "code",
   "execution_count": 3,
   "metadata": {},
   "outputs": [
    {
     "name": "stdout",
     "output_type": "stream",
     "text": [
      "75\n"
     ]
    },
    {
     "data": {
      "text/plain": [
       "[{'url': 'https://elcomercio.pe/politica/gobierno/dina-boluarte-la-desaprobacion-a-la-presidenta-llega-al-92-y-es-la-mas-alta-de-su-gestion-ejecutivo-gobierno-datum-internacional-noticia/',\n",
       "  'content': 'Dina Boluarte | la desaprobación a la presidenta llega al 92% y es la más alta de su gestión | Ejecutivo | gobierno | Datum Internacional | | POLITICA | EL COMERCIO PERÚ Según la última encuesta de Datum Internacional para El Comercio, la aprobación de la jefa del Estado volvió a registrarse en el mínimo negativo de 5%, y su desaprobación escaló ahora al 92%, la cifra más alta de su gestión y con lo que marca otro récord desfavorable. Se mantiene la crítica hacia la presidenta y su gestión sigue debilitándose, especialmente en los sectores más bajos, el sur y centro del país y entre quienes tienen el peso de la economía del hogar.'},\n",
       " {'url': 'https://www.bloomberg.com/news/articles/2024-05-27/aprobacion-de-presidenta-de-peru-en-nuevo-minimo-cae-a-solo-5',\n",
       "  'content': 'El índice de aprobación de la presidenta peruana, Dina Boluarte, cayó a un nuevo mínimo: solo el 5% de los encuestados la apoyan en medio de'},\n",
       " {'url': 'https://elcomercio.pe/politica/ecdata-aprobacion-de-dina-boluarte-tras-su-primer-ano-de-gestion-es-la-mas-baja-de-las-ultimas-dos-decadas-noticia/',\n",
       "  'content': 'ECData | Aprobación de Dina Boluarte tras su primer año de gestión es la más baja de las últimas dos décadas | POLITICA | EL COMERCIO PERÚ El 7 de diciembre del 2022, Dina Boluarte se convirtió en la primera presidenta de la República en asumir las riendas del país tras el golpe de Estado y el cierre del Congreso llevado a cabo por Pedro Castillo que derivó en su posterior vacancia. Por su parte, Paulo Vilca, director del observatorio regional de 50+1, coincide en que el balance negativo a la gestión de Dina Boluarte se sustenta en la falta de iniciativas sostenibles en políticas públicas que hayan podido emprender desde el Ejecutivo.'},\n",
       " {'url': 'https://elpais.com/america/2024-06-12/la-presidenta-dina-boluarte-cae-hasta-el-5-de-popularidad-record-historico-de-desaprobacion-en-peru.html',\n",
       "  'content': 'La presidenta de Perú, Dina Boluarte, ha alcanzado un nuevo récord negativo: una encuesta de la firma Datum Internacional para el diario El Comercio acaba de confirmar que la popularidad de la mandataria sigue en caída libre: apenas el 5% de los peruanos aprueban su gestión, un dato que la convierte en la jefa de Estado del país andino con menor respaldo del que se tenga registro. La aceptación de la presidenta nunca fue alentadora en su año y medio de gestión: desde que sucedió en el cargo a Pedro Castillo en diciembre de 2022 —tras un frustrado autogolpe—, Boluarte no ha podido superar la valla del 20%. Tu suscripción se está usando en otro dispositivo y solo puedes acceder a EL PAÍS desde un dispositivo a la vez.'},\n",
       " {'url': 'https://es.statista.com/estadisticas/1369593/dina-boluarte-aprobacion-de-la-gestion-de-la-presidenta-de-peru/',\n",
       "  'content': 'A pesar de la presión, la mandataria ha decidido recientemente no adelantar las próximas elecciones presidenciales en el país. Esto ha tenido repercusiones'}]"
      ]
     },
     "execution_count": 3,
     "metadata": {},
     "output_type": "execute_result"
    }
   ],
   "source": [
    "query = \"Cuál es la aprobación actual de la presidenta del Perú y cómo ha evolucionado en los últimos meses?\"\n",
    "\n",
    "results = tool.invoke({\"query\": query})\n",
    "print(len(results))\n",
    "\n",
    "results[:5]"
   ]
  },
  {
   "cell_type": "code",
   "execution_count": 5,
   "metadata": {},
   "outputs": [
    {
     "data": {
      "text/html": [
       "<div>\n",
       "<style scoped>\n",
       "    .dataframe tbody tr th:only-of-type {\n",
       "        vertical-align: middle;\n",
       "    }\n",
       "\n",
       "    .dataframe tbody tr th {\n",
       "        vertical-align: top;\n",
       "    }\n",
       "\n",
       "    .dataframe thead th {\n",
       "        text-align: right;\n",
       "    }\n",
       "</style>\n",
       "<table border=\"1\" class=\"dataframe\">\n",
       "  <thead>\n",
       "    <tr style=\"text-align: right;\">\n",
       "      <th></th>\n",
       "      <th>url</th>\n",
       "      <th>content</th>\n",
       "    </tr>\n",
       "  </thead>\n",
       "  <tbody>\n",
       "    <tr>\n",
       "      <th>0</th>\n",
       "      <td>https://elcomercio.pe/politica/gobierno/dina-b...</td>\n",
       "      <td>Dina Boluarte | la desaprobación a la presiden...</td>\n",
       "    </tr>\n",
       "    <tr>\n",
       "      <th>1</th>\n",
       "      <td>https://www.bloomberg.com/news/articles/2024-0...</td>\n",
       "      <td>El índice de aprobación de la presidenta perua...</td>\n",
       "    </tr>\n",
       "    <tr>\n",
       "      <th>2</th>\n",
       "      <td>https://elcomercio.pe/politica/ecdata-aprobaci...</td>\n",
       "      <td>ECData | Aprobación de Dina Boluarte tras su p...</td>\n",
       "    </tr>\n",
       "    <tr>\n",
       "      <th>3</th>\n",
       "      <td>https://elpais.com/america/2024-06-12/la-presi...</td>\n",
       "      <td>La presidenta de Perú, Dina Boluarte, ha alcan...</td>\n",
       "    </tr>\n",
       "    <tr>\n",
       "      <th>4</th>\n",
       "      <td>https://es.statista.com/estadisticas/1369593/d...</td>\n",
       "      <td>A pesar de la presión, la mandataria ha decidi...</td>\n",
       "    </tr>\n",
       "  </tbody>\n",
       "</table>\n",
       "</div>"
      ],
      "text/plain": [
       "                                                 url  \\\n",
       "0  https://elcomercio.pe/politica/gobierno/dina-b...   \n",
       "1  https://www.bloomberg.com/news/articles/2024-0...   \n",
       "2  https://elcomercio.pe/politica/ecdata-aprobaci...   \n",
       "3  https://elpais.com/america/2024-06-12/la-presi...   \n",
       "4  https://es.statista.com/estadisticas/1369593/d...   \n",
       "\n",
       "                                             content  \n",
       "0  Dina Boluarte | la desaprobación a la presiden...  \n",
       "1  El índice de aprobación de la presidenta perua...  \n",
       "2  ECData | Aprobación de Dina Boluarte tras su p...  \n",
       "3  La presidenta de Perú, Dina Boluarte, ha alcan...  \n",
       "4  A pesar de la presión, la mandataria ha decidi...  "
      ]
     },
     "execution_count": 5,
     "metadata": {},
     "output_type": "execute_result"
    }
   ],
   "source": [
    "df_topic1 = pd.DataFrame(results[:5])\n",
    "df_topic1"
   ]
  },
  {
   "cell_type": "code",
   "execution_count": null,
   "metadata": {},
   "outputs": [],
   "source": [
    "df_topic1.to_csv(\"../data/data_extracted_topic_1_110224.csv\", index=False)"
   ]
  }
 ],
 "metadata": {
  "kernelspec": {
   "display_name": ".venv",
   "language": "python",
   "name": "python3"
  },
  "language_info": {
   "codemirror_mode": {
    "name": "ipython",
    "version": 3
   },
   "file_extension": ".py",
   "mimetype": "text/x-python",
   "name": "python",
   "nbconvert_exporter": "python",
   "pygments_lexer": "ipython3",
   "version": "3.10.11"
  }
 },
 "nbformat": 4,
 "nbformat_minor": 2
}
