{
 "cells": [
  {
   "cell_type": "code",
   "execution_count": 1,
   "metadata": {},
   "outputs": [],
   "source": [
    "import sys\n",
    "import os\n",
    "\n",
    "sys.path.append(os.path.abspath(os.path.join(os.getcwd(), \"..\")))"
   ]
  },
  {
   "cell_type": "code",
   "execution_count": 2,
   "metadata": {},
   "outputs": [],
   "source": [
    "from resources.scrapper import CustomWebScraper\n",
    "from resources.queries_generator import SimilQuerysGenerator\n",
    "from resources.utils import save_data"
   ]
  },
  {
   "cell_type": "markdown",
   "metadata": {},
   "source": [
    "Amos ( 1 - 3):\n",
    "\n",
    "- 1. ¿Cuál es la aprobación actual de la presidenta del Perú y cómo ha evolucionado en los últimos meses?\n",
    "\n",
    "- 2. ¿Cómo la comparan con los presidentes anteriores en términos de gestión y estabilidad política?\n",
    "\n",
    "- 3. Perspectivas futuras y posibles escenarios políticos hasta 2026.\n"
   ]
  },
  {
   "cell_type": "code",
   "execution_count": 5,
   "metadata": {},
   "outputs": [],
   "source": [
    "NUMBER_NEW_QUERIES = 5\n",
    "MAX_AMOUNT_SEARCHES_PER_QUERY = 10\n",
    "\n",
    "\n",
    "topics_to_search = {\n",
    "    \"topic_1\": \"¿Cuál es la aprobación actual de la presidenta del Perú y cómo ha evolucionado en los últimos meses?\",\n",
    "    \"topic_2\": \"¿Cómo la comparan con los presidentes anteriores en términos de gestión y estabilidad política?\",\n",
    "    \"topic_3\": \"Perspectivas futuras y posibles escenarios políticos hasta 2026.\"\n",
    "}"
   ]
  },
  {
   "cell_type": "code",
   "execution_count": 4,
   "metadata": {},
   "outputs": [
    {
     "name": "stdout",
     "output_type": "stream",
     "text": [
      "\n",
      "======== Processing...topic_1 ========\n",
      "---> Searching: ¿Qué nivel de aprobación tiene actualmente la presidenta del Perú y de qué manera ha cambiado en los últimos meses?\n",
      "---> Skipping invalid content from URL: https://www.ipsos.com/es-pe/aprobacion-de-autoridades-febrero-2025-encuesta-peru-21-ipsos\n",
      "---> Searching: ¿Cómo se encuentra en este momento la aprobación de la presidenta del Perú y qué variaciones ha tenido en los últimos meses?\n",
      "---> Skipping invalid content from URL: https://www.ipsos.com/es-pe/aprobacion-de-autoridades-febrero-2025-encuesta-peru-21-ipsos\n",
      "Total valid results obtained: 2\n",
      "Data successfully saved in: ../data/data_extracted_topic_1_12022025.json\n",
      "\n",
      "======== Processing...topic_2 ========\n",
      "---> Searching: ¿De qué manera se les compara con los presidentes previos en cuanto a su administración y la estabilidad política?\n",
      "---> Searching: ¿En qué aspectos se les mide frente a los presidentes anteriores respecto a su gestión y la estabilidad del país?\n",
      "Total valid results obtained: 4\n",
      "Data successfully saved in: ../data/data_extracted_topic_2_12022025.json\n",
      "\n",
      "======== Processing...topic_3 ========\n",
      "---> Searching: Visiones futuras y posibles situaciones políticas para el año 2026.\n",
      "---> Searching: Proyecciones futuras y eventuales contextos políticos hasta el 2026.\n",
      "Total valid results obtained: 4\n",
      "Data successfully saved in: ../data/data_extracted_topic_3_12022025.json\n"
     ]
    }
   ],
   "source": [
    "for topic, original_question in topics_to_search.items():\n",
    "    print(f\"\\n\\n======== Processing...{topic} ========\")\n",
    "    \n",
    "    query_generator = SimilQuerysGenerator(NUMBER_NEW_QUERIES, original_question)\n",
    "    new_queries = query_generator.get_new_querys()\n",
    "\n",
    "    scrapper = CustomWebScraper(MAX_AMOUNT_SEARCHES_PER_QUERY)\n",
    "    results = scrapper.process_results(new_queries)\n",
    "    \n",
    "    save_data(results, topic)\n",
    "    "
   ]
  }
 ],
 "metadata": {
  "kernelspec": {
   "display_name": ".venv",
   "language": "python",
   "name": "python3"
  },
  "language_info": {
   "codemirror_mode": {
    "name": "ipython",
    "version": 3
   },
   "file_extension": ".py",
   "mimetype": "text/x-python",
   "name": "python",
   "nbconvert_exporter": "python",
   "pygments_lexer": "ipython3",
   "version": "3.10.11"
  }
 },
 "nbformat": 4,
 "nbformat_minor": 2
}
