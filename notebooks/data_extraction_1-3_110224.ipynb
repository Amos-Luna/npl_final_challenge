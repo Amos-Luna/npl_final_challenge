{
 "cells": [
  {
   "cell_type": "code",
   "execution_count": 1,
   "metadata": {},
   "outputs": [],
   "source": [
    "import sys\n",
    "import os\n",
    "\n",
    "sys.path.append(os.path.abspath(os.path.join(os.getcwd(), \"..\")))"
   ]
  },
  {
   "cell_type": "code",
   "execution_count": 2,
   "metadata": {},
   "outputs": [],
   "source": [
    "from resources.scrapper import CustomWebScraper\n",
    "from resources.queries_generator import SimilQuerysGenerator\n",
    "from resources.utils import save_data"
   ]
  },
  {
   "cell_type": "markdown",
   "metadata": {},
   "source": [
    "Amos ( 1 - 3):\n",
    "\n",
    "- 1. ¿Cuál es la aprobación actual de la presidenta del Perú y cómo ha evolucionado en los últimos meses?\n",
    "\n",
    "- 2. ¿Cómo la comparan con los presidentes anteriores en términos de gestión y estabilidad política?\n",
    "\n",
    "- 3. Perspectivas futuras y posibles escenarios políticos hasta 2026.\n"
   ]
  },
  {
   "cell_type": "code",
   "execution_count": 3,
   "metadata": {},
   "outputs": [],
   "source": [
    "NUMBER_NEW_QUERIES = 5\n",
    "MAX_AMOUNT_SEARCHES_PER_QUERY = 10\n",
    "\n",
    "\n",
    "topics_to_search = {\n",
    "    \"topic_1\": \"¿Cuál es la aprobación actual de la presidenta del Perú y cómo ha evolucionado en los últimos meses?\",\n",
    "    \"topic_2\": \"¿Cómo la comparan con los presidentes anteriores en términos de gestión y estabilidad política?\",\n",
    "    \"topic_3\": \"Perspectivas futuras y posibles escenarios políticos hasta 2026.\"\n",
    "}"
   ]
  },
  {
   "cell_type": "code",
   "execution_count": 4,
   "metadata": {},
   "outputs": [
    {
     "name": "stdout",
     "output_type": "stream",
     "text": [
      "\n",
      "\n",
      "======== Processing...topic_1 ========\n",
      "---> Searching: ¿Qué nivel de aprobación tiene actualmente la presidenta del Perú y de qué manera ha cambiado en los últimos meses?\n",
      "---> [Error] Skipping invalid content from URL: \n",
      "---> Searching: ¿Cómo se encuentra la aprobación de la presidenta del Perú en este momento y cómo ha variado en los últimos meses?\n",
      "---> [Error] Skipping invalid content from URL: \n",
      "---> Searching: ¿Cuál es el índice actual de aprobación de la presidenta del Perú y cómo ha evolucionado en los últimos meses?\n",
      "---> [Error] Skipping invalid content from URL: \n",
      "---> [Error] Skipping invalid content from URL: \n",
      "---> [Error] Skipping invalid content from URL: \n",
      "---> Searching: ¿Qué porcentaje de aprobación tiene la presidenta del Perú en la actualidad y cómo ha fluctuado en los meses recientes?\n",
      "---> [Error] Skipping invalid content from URL: \n",
      "---> [Error] Skipping invalid content from URL: \n",
      "---> Searching: ¿Cómo está la aprobación actual de la presidenta del Perú y qué cambios ha tenido en los últimos meses?\n",
      "---> [Error] Skipping invalid content from URL: \n",
      "-----> Total valid results obtained: 27\n",
      "-----> Data successfully saved in: ../data/data_extracted_topic_1_12022025.json\n",
      "\n",
      "\n",
      "======== Processing...topic_2 ========\n",
      "---> Searching: ¿De qué manera la comparan con los presidentes previos en lo que respecta a su gestión y estabilidad política?\n",
      "---> Searching: ¿Cómo se la compara con los presidentes anteriores en relación a su administración y la estabilidad política?\n",
      "---> Searching: ¿En qué aspectos la comparan con los presidentes anteriores en cuanto a gestión y estabilidad en el ámbito político?\n",
      "---> [Error] Skipping invalid content from URL: \n",
      "---> Searching: ¿Cómo se evalúa su gestión y estabilidad política en comparación con presidentes anteriores?\n",
      "---> [Error] Skipping invalid content from URL: \n",
      "---> [Error] Skipping invalid content from URL: \n",
      "---> Searching: ¿De qué forma se compara su gestión y estabilidad política con la de presidentes anteriores?\n",
      "---> [Error] Skipping invalid content from URL: \n",
      "-----> Total valid results obtained: 36\n",
      "-----> Data successfully saved in: ../data/data_extracted_topic_2_12022025.json\n",
      "\n",
      "\n",
      "======== Processing...topic_3 ========\n",
      "---> Searching: Futuras perspectivas y posibles situaciones políticas hasta el año 2026.\n",
      "---> [Error] Skipping invalid content from URL: \n",
      "---> Searching: Escenarios políticos y visiones futuras hasta 2026.\n",
      "---> [Error] Skipping invalid content from URL: \n",
      "---> [Error] Skipping invalid content from URL: \n",
      "---> Searching: Proyecciones futuras y posibles contextos políticos para 2026.\n",
      "---> Searching: Posibles escenarios políticos y perspectivas a futuro hasta 2026.\n",
      "---> [Error] Skipping invalid content from URL: \n",
      "---> [Error] Skipping invalid content from URL: \n",
      "---> [Error] Skipping invalid content from URL: \n",
      "---> Searching: Visiones a futuro y escenarios políticos potenciales hasta el 2026.\n",
      "---> [Error] Skipping invalid content from URL: \n",
      "-----> Total valid results obtained: 35\n",
      "-----> Data successfully saved in: ../data/data_extracted_topic_3_12022025.json\n"
     ]
    }
   ],
   "source": [
    "for topic, original_question in topics_to_search.items():\n",
    "    print(f\"\\n\\n======== Processing...{topic} ========\")\n",
    "    \n",
    "    query_generator = SimilQuerysGenerator(NUMBER_NEW_QUERIES, original_question)\n",
    "    new_queries = query_generator.get_new_querys()\n",
    "\n",
    "    scrapper = CustomWebScraper(MAX_AMOUNT_SEARCHES_PER_QUERY)\n",
    "    results = scrapper.process_results(new_queries)\n",
    "    \n",
    "    save_data(results, topic)\n",
    "    "
   ]
  },
  {
   "cell_type": "code",
   "execution_count": null,
   "metadata": {},
   "outputs": [],
   "source": []
  }
 ],
 "metadata": {
  "kernelspec": {
   "display_name": ".venv",
   "language": "python",
   "name": "python3"
  },
  "language_info": {
   "codemirror_mode": {
    "name": "ipython",
    "version": 3
   },
   "file_extension": ".py",
   "mimetype": "text/x-python",
   "name": "python",
   "nbconvert_exporter": "python",
   "pygments_lexer": "ipython3",
   "version": "3.10.11"
  }
 },
 "nbformat": 4,
 "nbformat_minor": 2
}
