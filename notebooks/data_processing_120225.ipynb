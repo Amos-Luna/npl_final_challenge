{
 "cells": [
  {
   "cell_type": "markdown",
   "metadata": {},
   "source": [
    "## Importación de Librerías y Configuración Inicial"
   ]
  },
  {
   "cell_type": "code",
   "execution_count": 3,
   "metadata": {},
   "outputs": [],
   "source": [
    "import os\n",
    "import glob\n",
    "import json\n",
    "import re\n",
    "from collections import Counter\n",
    "\n",
    "import pandas as pd\n",
    "import matplotlib.pyplot as plt\n",
    "import seaborn as sns\n",
    "\n",
    "import nltk\n",
    "from nltk.corpus import stopwords\n",
    "\n",
    "from sklearn.feature_extraction.text import TfidfVectorizer\n",
    "from sklearn.model_selection import train_test_split\n",
    "from sklearn.ensemble import RandomForestClassifier\n",
    "from sklearn.metrics import accuracy_score, classification_report\n",
    "\n",
    "from vaderSentiment.vaderSentiment import SentimentIntensityAnalyzer\n",
    "\n",
    "import spacy\n",
    "from transformers import pipeline"
   ]
  },
  {
   "cell_type": "code",
   "execution_count": 2,
   "metadata": {},
   "outputs": [
    {
     "name": "stderr",
     "output_type": "stream",
     "text": [
      "[nltk_data] Downloading package punkt to\n",
      "[nltk_data]     C:\\Users\\Jesus\\AppData\\Roaming\\nltk_data...\n",
      "[nltk_data]   Package punkt is already up-to-date!\n",
      "[nltk_data] Downloading package stopwords to\n",
      "[nltk_data]     C:\\Users\\Jesus\\AppData\\Roaming\\nltk_data...\n",
      "[nltk_data]   Package stopwords is already up-to-date!\n"
     ]
    }
   ],
   "source": [
    "nltk.download('punkt')\n",
    "nltk.download('stopwords')\n",
    "\n",
    "try:\n",
    "    nlp = spacy.load('es_core_news_sm')\n",
    "except Exception as e:\n",
    "    print(\"No se pudo cargar el modelo de spaCy para español.\")\n",
    "\n",
    "# Se definen las stopwords en español\n",
    "STOP_WORDS = set(stopwords.words('spanish'))"
   ]
  },
  {
   "cell_type": "markdown",
   "metadata": {},
   "source": [
    "## Cargar los datos | Preprocesamiento de Datos"
   ]
  },
  {
   "cell_type": "markdown",
   "metadata": {},
   "source": [
    "### Funciones"
   ]
  },
  {
   "cell_type": "code",
   "execution_count": 4,
   "metadata": {},
   "outputs": [],
   "source": [
    "def load_json_files(directory_path):\n",
    "    \"\"\"Carga todos los archivos JSON\"\"\"\n",
    "    file_pattern = os.path.join(directory_path, \"*.json\")\n",
    "    files = glob.glob(file_pattern)\n",
    "    data = []\n",
    "    for file in files:\n",
    "        try:\n",
    "            with open(file, 'r', encoding='utf-8') as f:\n",
    "                file_data = json.load(f)\n",
    "                data.extend(file_data)\n",
    "            print(f\"Archivo cargado: {file}\")\n",
    "        except Exception as e:\n",
    "            print(f\"Error al leer {file}: {e}\")\n",
    "    return data\n",
    "\n",
    "def clean_text(text):\n",
    "    \"\"\"\n",
    "    Limpia el texto:\n",
    "      - Elimina etiquetas HTML.\n",
    "      - Remueve caracteres no alfabéticos (se conservan acentos y ñ).\n",
    "      - Convierte a minúsculas.\n",
    "      - Tokeniza y lematiza usando spaCy.\n",
    "      - Elimina stopwords.\n",
    "    \"\"\"\n",
    "    text = re.sub(r'<.*?>', '', text)  # Eliminar HTML\n",
    "    text = re.sub(r'[^a-zA-ZáéíóúÁÉÍÓÚñÑ\\s]', '', text)  # Solo letras y espacios\n",
    "    text = text.lower()\n",
    "    doc = nlp(text)\n",
    "    tokens = [token.lemma_ for token in doc \n",
    "              if token.text not in STOP_WORDS and not token.is_punct and not token.is_space]\n",
    "    return \" \".join(tokens)\n",
    "\n",
    "def combine_and_clean(row):\n",
    "    \"\"\"Combina las columnas 'direct_snippet' y 'full_content' y aplica la limpieza.\"\"\"\n",
    "    direct = row.get('direct_snippet', '')\n",
    "    full = row.get('full_content', '')\n",
    "    combined = f\"{direct} {full}\"\n",
    "    return clean_text(combined)\n"
   ]
  },
  {
   "cell_type": "code",
   "execution_count": 7,
   "metadata": {},
   "outputs": [],
   "source": [
    "def extract_pos_tags(text):\n",
    "    \"\"\"Extrae las etiquetas POS (part-of-speech) de cada token en el texto usando spaCy\"\"\"\n",
    "    doc = nlp(text)\n",
    "    return [(token.text, token.pos_) for token in doc]\n",
    "\n",
    "def extract_entities(text):\n",
    "    \"\"\"Extrae las entidades nombradas del texto usando spaCy\"\"\"\n",
    "    doc = nlp(text)\n",
    "    return [(ent.text, ent.label_) for ent in doc.ents]"
   ]
  },
  {
   "cell_type": "code",
   "execution_count": null,
   "metadata": {},
   "outputs": [],
   "source": [
    "def get_spacy_embeddings(text):\n",
    "    \"\"Retorna el vector de la oración procesada con spaCy.\"\"\"\n",
    "    doc = nlp(text)\n",
    "    return doc.vector"
   ]
  },
  {
   "cell_type": "markdown",
   "metadata": {},
   "source": [
    "### Carga de Datos y Creación del DataFrame\n"
   ]
  },
  {
   "cell_type": "code",
   "execution_count": null,
   "metadata": {},
   "outputs": [
    {
     "name": "stdout",
     "output_type": "stream",
     "text": [
      "Archivo cargado: ../Data\\data_extracted_topic_1_12022025.json\n",
      "Archivo cargado: ../Data\\data_extracted_topic_2_12022025.json\n",
      "Archivo cargado: ../Data\\data_extracted_topic_3_12022025.json\n",
      "Archivo cargado: ../Data\\results_variations.json\n",
      "Total de registros cargados: 1907\n"
     ]
    },
    {
     "data": {
      "text/html": [
       "<div>\n",
       "<style scoped>\n",
       "    .dataframe tbody tr th:only-of-type {\n",
       "        vertical-align: middle;\n",
       "    }\n",
       "\n",
       "    .dataframe tbody tr th {\n",
       "        vertical-align: top;\n",
       "    }\n",
       "\n",
       "    .dataframe thead th {\n",
       "        text-align: right;\n",
       "    }\n",
       "</style>\n",
       "<table border=\"1\" class=\"dataframe\">\n",
       "  <thead>\n",
       "    <tr style=\"text-align: right;\">\n",
       "      <th></th>\n",
       "      <th>query</th>\n",
       "      <th>direct_snippet</th>\n",
       "      <th>url</th>\n",
       "      <th>full_title</th>\n",
       "      <th>full_content</th>\n",
       "    </tr>\n",
       "  </thead>\n",
       "  <tbody>\n",
       "    <tr>\n",
       "      <th>0</th>\n",
       "      <td>¿Qué nivel de aprobación tiene actualmente la ...</td>\n",
       "      <td>César Acuña resaltó que la aprobación de la pr...</td>\n",
       "      <td>https://larepublica.pe/sociedad/2024/12/02/nom...</td>\n",
       "      <td>[Error] Web request failed: 403 Client Error: ...</td>\n",
       "      <td>El gobernador regional de La Libertad, César A...</td>\n",
       "    </tr>\n",
       "    <tr>\n",
       "      <th>1</th>\n",
       "      <td>¿Qué nivel de aprobación tiene actualmente la ...</td>\n",
       "      <td>La presidenta de la República, Dina Boluarte, ...</td>\n",
       "      <td>https://peru21.pe/politica/dina-boluarte-vuelv...</td>\n",
       "      <td>[Error] Web request failed: 403 Client Error: ...</td>\n",
       "      <td>La presidenta de la República, Dina Boluarte, ...</td>\n",
       "    </tr>\n",
       "    <tr>\n",
       "      <th>2</th>\n",
       "      <td>¿Qué nivel de aprobación tiene actualmente la ...</td>\n",
       "      <td>La presidenta Dina Boluarte enfrenta una grave...</td>\n",
       "      <td>https://larepublica.pe/politica/2024/12/25/din...</td>\n",
       "      <td>[Error] Web request failed: 403 Client Error: ...</td>\n",
       "      <td>Dina Boluarte enfrenta récords negativos de ap...</td>\n",
       "    </tr>\n",
       "    <tr>\n",
       "      <th>3</th>\n",
       "      <td>¿Qué nivel de aprobación tiene actualmente la ...</td>\n",
       "      <td>Dina Boluarte espera que otra mujer sea elegid...</td>\n",
       "      <td>https://www.infobae.com/peru/2025/02/11/dina-b...</td>\n",
       "      <td>Dina Boluarte espera que otra mujer sea elegid...</td>\n",
       "      <td>Dina Boluarte espera que otra mujer sea elegid...</td>\n",
       "    </tr>\n",
       "    <tr>\n",
       "      <th>4</th>\n",
       "      <td>¿Qué nivel de aprobación tiene actualmente la ...</td>\n",
       "      <td>La aprobación de la presidenta de Perú, ... el...</td>\n",
       "      <td>https://actualidad.rt.com/actualidad/530748-ap...</td>\n",
       "      <td>La aprobación de Dina Boluarte cae a mínimos h...</td>\n",
       "      <td>La aprobación de Dina Boluarte cae a mínimos h...</td>\n",
       "    </tr>\n",
       "  </tbody>\n",
       "</table>\n",
       "</div>"
      ],
      "text/plain": [
       "                                               query  \\\n",
       "0  ¿Qué nivel de aprobación tiene actualmente la ...   \n",
       "1  ¿Qué nivel de aprobación tiene actualmente la ...   \n",
       "2  ¿Qué nivel de aprobación tiene actualmente la ...   \n",
       "3  ¿Qué nivel de aprobación tiene actualmente la ...   \n",
       "4  ¿Qué nivel de aprobación tiene actualmente la ...   \n",
       "\n",
       "                                      direct_snippet  \\\n",
       "0  César Acuña resaltó que la aprobación de la pr...   \n",
       "1  La presidenta de la República, Dina Boluarte, ...   \n",
       "2  La presidenta Dina Boluarte enfrenta una grave...   \n",
       "3  Dina Boluarte espera que otra mujer sea elegid...   \n",
       "4  La aprobación de la presidenta de Perú, ... el...   \n",
       "\n",
       "                                                 url  \\\n",
       "0  https://larepublica.pe/sociedad/2024/12/02/nom...   \n",
       "1  https://peru21.pe/politica/dina-boluarte-vuelv...   \n",
       "2  https://larepublica.pe/politica/2024/12/25/din...   \n",
       "3  https://www.infobae.com/peru/2025/02/11/dina-b...   \n",
       "4  https://actualidad.rt.com/actualidad/530748-ap...   \n",
       "\n",
       "                                          full_title  \\\n",
       "0  [Error] Web request failed: 403 Client Error: ...   \n",
       "1  [Error] Web request failed: 403 Client Error: ...   \n",
       "2  [Error] Web request failed: 403 Client Error: ...   \n",
       "3  Dina Boluarte espera que otra mujer sea elegid...   \n",
       "4  La aprobación de Dina Boluarte cae a mínimos h...   \n",
       "\n",
       "                                        full_content  \n",
       "0  El gobernador regional de La Libertad, César A...  \n",
       "1  La presidenta de la República, Dina Boluarte, ...  \n",
       "2  Dina Boluarte enfrenta récords negativos de ap...  \n",
       "3  Dina Boluarte espera que otra mujer sea elegid...  \n",
       "4  La aprobación de Dina Boluarte cae a mínimos h...  "
      ]
     },
     "execution_count": 5,
     "metadata": {},
     "output_type": "execute_result"
    }
   ],
   "source": [
    "# Especifica el directorio donde se encuentran tus archivos JSON\n",
    "data_directory = '../Data'  # Ajusta la ruta según tu estructura\n",
    "\n",
    "# Cargar datos desde todos los archivos JSON en el directorio\n",
    "data = load_json_files_from_directory(data_directory)\n",
    "df = pd.DataFrame(data)\n",
    "print(f\"Total de registros cargados: {df.shape[0]}\")\n",
    "\n",
    "# Visualizar algunas columnas para confirmar la estructura\n",
    "df.head()"
   ]
  },
  {
   "cell_type": "code",
   "execution_count": 6,
   "metadata": {},
   "outputs": [],
   "source": [
    "# Combinar las columnas para tener mayor cantidad de oraciones\n",
    "df['combined_text'] = df['direct_snippet'].fillna('') + \" \" + df['full_content'].fillna('')"
   ]
  },
  {
   "cell_type": "code",
   "execution_count": 7,
   "metadata": {},
   "outputs": [
    {
     "name": "stdout",
     "output_type": "stream",
     "text": [
      "Texto combinado y limpieza completados.\n"
     ]
    }
   ],
   "source": [
    "# Aplicar la limpieza al texto combinado\n",
    "df['clean_text'] = df.apply(combine_and_clean, axis=1)\n",
    "print(\"Texto combinado y limpieza completados.\")"
   ]
  },
  {
   "cell_type": "code",
   "execution_count": 8,
   "metadata": {},
   "outputs": [
    {
     "name": "stdout",
     "output_type": "stream",
     "text": [
      "                                      direct_snippet  \\\n",
      "0  César Acuña resaltó que la aprobación de la pr...   \n",
      "1  La presidenta de la República, Dina Boluarte, ...   \n",
      "2  La presidenta Dina Boluarte enfrenta una grave...   \n",
      "3  Dina Boluarte espera que otra mujer sea elegid...   \n",
      "4  La aprobación de la presidenta de Perú, ... el...   \n",
      "\n",
      "                                        full_content  \\\n",
      "0  El gobernador regional de La Libertad, César A...   \n",
      "1  La presidenta de la República, Dina Boluarte, ...   \n",
      "2  Dina Boluarte enfrenta récords negativos de ap...   \n",
      "3  Dina Boluarte espera que otra mujer sea elegid...   \n",
      "4  La aprobación de Dina Boluarte cae a mínimos h...   \n",
      "\n",
      "                                       combined_text  \\\n",
      "0  César Acuña resaltó que la aprobación de la pr...   \n",
      "1  La presidenta de la República, Dina Boluarte, ...   \n",
      "2  La presidenta Dina Boluarte enfrenta una grave...   \n",
      "3  Dina Boluarte espera que otra mujer sea elegid...   \n",
      "4  La aprobación de la presidenta de Perú, ... el...   \n",
      "\n",
      "                                          clean_text  \n",
      "0  césar acuña resaltar aprobación presidenta dín...  \n",
      "1  presidenta república dín boluarte volver minim...  \n",
      "2  presidenta dín boluarte enfrentar grave crisis...  \n",
      "3  dina boluarte esperar mujer elegir presidenta ...  \n",
      "4  aprobación presidenta perú jefe consejo minist...  \n"
     ]
    }
   ],
   "source": [
    "# Visualizar un ejemplo\n",
    "print(df[['direct_snippet', 'full_content', 'combined_text', 'clean_text']].head())"
   ]
  },
  {
   "cell_type": "markdown",
   "metadata": {},
   "source": [
    "### Representación de Textos con TF-IDF"
   ]
  },
  {
   "cell_type": "code",
   "execution_count": null,
   "metadata": {},
   "outputs": [],
   "source": [
    "# Configurar el vectorizador TF-IDF\n",
    "vectorizer = TfidfVectorizer(max_features=5000)\n",
    "X = vectorizer.fit_transform(df['clean_text'])\n",
    "print(\"Vectorización TF-IDF completada.\")"
   ]
  },
  {
   "cell_type": "markdown",
   "metadata": {},
   "source": [
    "### Análisis de Sentimientos con VADER"
   ]
  },
  {
   "cell_type": "code",
   "execution_count": null,
   "metadata": {},
   "outputs": [],
   "source": [
    "analyzer = SentimentIntensityAnalyzer()"
   ]
  },
  {
   "cell_type": "code",
   "execution_count": null,
   "metadata": {},
   "outputs": [],
   "source": [
    "df['vader_score'] = df['combined_text'].apply(lambda x: analyzer.polarity_scores(x)['compound'])\n",
    "df['vader_sentiment'] = df['vader_score'].apply(lambda x: 'positive' if x > 0.2 else ('negative' if x < -0.2 else 'neutral'))\n",
    "print(\"Análisis de sentimientos con VADER completado.\")"
   ]
  },
  {
   "cell_type": "markdown",
   "metadata": {},
   "source": [
    "### Análisis de Sentimientos con Hugging Face"
   ]
  }
 ],
 "metadata": {
  "kernelspec": {
   "display_name": "sentiment_env",
   "language": "python",
   "name": "python3"
  },
  "language_info": {
   "codemirror_mode": {
    "name": "ipython",
    "version": 3
   },
   "file_extension": ".py",
   "mimetype": "text/x-python",
   "name": "python",
   "nbconvert_exporter": "python",
   "pygments_lexer": "ipython3",
   "version": "3.9.21"
  }
 },
 "nbformat": 4,
 "nbformat_minor": 2
}
